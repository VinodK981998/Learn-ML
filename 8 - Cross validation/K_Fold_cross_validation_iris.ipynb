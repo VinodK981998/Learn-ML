{
 "cells": [
  {
   "cell_type": "code",
   "execution_count": 5,
   "id": "7e0e6514",
   "metadata": {},
   "outputs": [],
   "source": [
    "import numpy as np\n",
    "import pandas as pd\n",
    "import matplotlib.pyplot as plt\n",
    "import seaborn as sns\n",
    "from sklearn.model_selection import train_test_split\n",
    "from sklearn.ensemble import RandomForestClassifier\n",
    "from sklearn.linear_model import LogisticRegression\n",
    "from sklearn.svm import SVC\n",
    "from sklearn.tree import DecisionTreeClassifier\n",
    "from sklearn.datasets import load_iris\n",
    "from sklearn.model_selection import StratifiedKFold"
   ]
  },
  {
   "cell_type": "code",
   "execution_count": 6,
   "id": "a6ceae34",
   "metadata": {},
   "outputs": [],
   "source": [
    "iris = load_iris()"
   ]
  },
  {
   "cell_type": "code",
   "execution_count": 7,
   "id": "e3a58bf6",
   "metadata": {},
   "outputs": [],
   "source": [
    "skf = StratifiedKFold(n_splits = 5)\n"
   ]
  },
  {
   "cell_type": "code",
   "execution_count": 11,
   "id": "fbd3159a",
   "metadata": {},
   "outputs": [],
   "source": [
    "def get_score(model,X_train,X_test,y_train,y_test):\n",
    "    model.fit(X_train,y_train)\n",
    "    return(model.score(X_test,y_test))"
   ]
  },
  {
   "cell_type": "code",
   "execution_count": 22,
   "id": "6f88b92e",
   "metadata": {},
   "outputs": [
    {
     "name": "stderr",
     "output_type": "stream",
     "text": [
      "C:\\Users\\vinod\\anaconda3\\lib\\site-packages\\sklearn\\linear_model\\_logistic.py:814: ConvergenceWarning: lbfgs failed to converge (status=1):\n",
      "STOP: TOTAL NO. of ITERATIONS REACHED LIMIT.\n",
      "\n",
      "Increase the number of iterations (max_iter) or scale the data as shown in:\n",
      "    https://scikit-learn.org/stable/modules/preprocessing.html\n",
      "Please also refer to the documentation for alternative solver options:\n",
      "    https://scikit-learn.org/stable/modules/linear_model.html#logistic-regression\n",
      "  n_iter_i = _check_optimize_result(\n"
     ]
    }
   ],
   "source": [
    "models = [LogisticRegression(), DecisionTreeClassifier(),SVC(C = 2),RandomForestClassifier(n_estimators=50)]\n",
    "score_matrix = []\n",
    "for model in models: \n",
    "\n",
    "    score = []\n",
    "    score.append(model)\n",
    "    for train_index, test_index in skf.split(iris.data,iris.target):\n",
    "        score.append(get_score(model, iris.data[train_index],iris.data[test_index], \\\n",
    "                  iris.target[train_index],iris.target[test_index]))\n",
    "        \n",
    "    score_matrix.append(score)\n",
    "        "
   ]
  },
  {
   "cell_type": "code",
   "execution_count": 23,
   "id": "39ea94fe",
   "metadata": {},
   "outputs": [
    {
     "data": {
      "text/plain": [
       "[[LogisticRegression(),\n",
       "  0.9666666666666667,\n",
       "  1.0,\n",
       "  0.9333333333333333,\n",
       "  0.9666666666666667,\n",
       "  1.0],\n",
       " [DecisionTreeClassifier(),\n",
       "  0.9666666666666667,\n",
       "  0.9666666666666667,\n",
       "  0.9,\n",
       "  0.9666666666666667,\n",
       "  1.0],\n",
       " [SVC(C=2),\n",
       "  0.9666666666666667,\n",
       "  1.0,\n",
       "  0.9666666666666667,\n",
       "  0.9666666666666667,\n",
       "  1.0],\n",
       " [RandomForestClassifier(n_estimators=50),\n",
       "  0.9666666666666667,\n",
       "  0.9666666666666667,\n",
       "  0.9,\n",
       "  0.9666666666666667,\n",
       "  1.0]]"
      ]
     },
     "execution_count": 23,
     "metadata": {},
     "output_type": "execute_result"
    }
   ],
   "source": [
    "score_matrix"
   ]
  },
  {
   "cell_type": "markdown",
   "id": "d066639b",
   "metadata": {},
   "source": [
    "LETS use cross validation to solve all of this in a single line"
   ]
  },
  {
   "cell_type": "code",
   "execution_count": 25,
   "id": "cff3b7fb",
   "metadata": {},
   "outputs": [],
   "source": [
    "from sklearn.model_selection import cross_val_score"
   ]
  },
  {
   "cell_type": "code",
   "execution_count": 28,
   "id": "83dec8d4",
   "metadata": {},
   "outputs": [
    {
     "name": "stderr",
     "output_type": "stream",
     "text": [
      "C:\\Users\\vinod\\anaconda3\\lib\\site-packages\\sklearn\\linear_model\\_logistic.py:814: ConvergenceWarning: lbfgs failed to converge (status=1):\n",
      "STOP: TOTAL NO. of ITERATIONS REACHED LIMIT.\n",
      "\n",
      "Increase the number of iterations (max_iter) or scale the data as shown in:\n",
      "    https://scikit-learn.org/stable/modules/preprocessing.html\n",
      "Please also refer to the documentation for alternative solver options:\n",
      "    https://scikit-learn.org/stable/modules/linear_model.html#logistic-regression\n",
      "  n_iter_i = _check_optimize_result(\n"
     ]
    },
    {
     "name": "stdout",
     "output_type": "stream",
     "text": [
      "[0.96666667 1.         0.93333333 0.96666667 1.        ]\n",
      "[0.96666667 0.96666667 0.9        0.96666667 1.        ]\n",
      "[0.96666667 1.         0.96666667 0.96666667 1.        ]\n",
      "[0.96666667 0.96666667 0.93333333 0.93333333 1.        ]\n"
     ]
    }
   ],
   "source": [
    "for model in models:\n",
    "    print(cross_val_score(model,iris.data,iris.target,cv=5))"
   ]
  },
  {
   "cell_type": "code",
   "execution_count": null,
   "id": "9d5679aa",
   "metadata": {},
   "outputs": [],
   "source": []
  }
 ],
 "metadata": {
  "kernelspec": {
   "display_name": "Python 3 (ipykernel)",
   "language": "python",
   "name": "python3"
  },
  "language_info": {
   "codemirror_mode": {
    "name": "ipython",
    "version": 3
   },
   "file_extension": ".py",
   "mimetype": "text/x-python",
   "name": "python",
   "nbconvert_exporter": "python",
   "pygments_lexer": "ipython3",
   "version": "3.9.12"
  }
 },
 "nbformat": 4,
 "nbformat_minor": 5
}
